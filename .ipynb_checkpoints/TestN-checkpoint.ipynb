{
 "cells": [
  {
   "cell_type": "code",
   "execution_count": 8,
   "id": "0397fdaa",
   "metadata": {},
   "outputs": [],
   "source": [
    "import multiprocessing\n",
    "import random\n",
    "import time\n",
    "from threading import current_thread\n",
    "\n",
    "import rx\n",
    "from rx.scheduler import ThreadPoolScheduler\n",
    "from rx import operators as ops\n",
    "from rx import create\n",
    "import cbpro\n",
    "from pymongo import MongoClient\n",
    "import numpy as np\n",
    "import dateutil.parser"
   ]
  },
  {
   "cell_type": "code",
   "execution_count": 6,
   "id": "b590c7f5",
   "metadata": {},
   "outputs": [],
   "source": [
    "mongo_client = MongoClient('mongodb://192.168.0.3:27017/')\n",
    "db = mongo_client.cryptocurrency_database\n",
    "BTC_collection = db.BTC_collection\n",
    "ACC_collection = db.ACC_collection "
   ]
  },
  {
   "cell_type": "code",
   "execution_count": 28,
   "id": "12412204",
   "metadata": {},
   "outputs": [],
   "source": []
  },
  {
   "cell_type": "code",
   "execution_count": 23,
   "id": "eca04568",
   "metadata": {},
   "outputs": [
    {
     "data": {
      "text/plain": [
       "{'_id': ObjectId('60ba97c4e3d2c41b9db40178'),\n",
       " 'price': 34466.85,\n",
       " 'size': 0.0030150900000000002}"
      ]
     },
     "execution_count": 23,
     "metadata": {},
     "output_type": "execute_result"
    }
   ],
   "source": [
    "docs.next()"
   ]
  },
  {
   "cell_type": "code",
   "execution_count": 5,
   "id": "ea27b420",
   "metadata": {},
   "outputs": [
    {
     "ename": "KeyError",
     "evalue": "'size'",
     "output_type": "error",
     "traceback": [
      "\u001b[0;31m---------------------------------------------------------------------------\u001b[0m",
      "\u001b[0;31mKeyError\u001b[0m                                  Traceback (most recent call last)",
      "\u001b[0;32m<ipython-input-5-58c5750f74f0>\u001b[0m in \u001b[0;36m<module>\u001b[0;34m\u001b[0m\n\u001b[1;32m      2\u001b[0m \u001b[0;34m\u001b[0m\u001b[0m\n\u001b[1;32m      3\u001b[0m \u001b[0mdocs\u001b[0m \u001b[0;34m=\u001b[0m \u001b[0mACC_collection\u001b[0m\u001b[0;34m.\u001b[0m\u001b[0mfind\u001b[0m\u001b[0;34m(\u001b[0m\u001b[0;34m)\u001b[0m\u001b[0;34m\u001b[0m\u001b[0;34m\u001b[0m\u001b[0m\n\u001b[0;32m----> 4\u001b[0;31m \u001b[0mnpvals\u001b[0m \u001b[0;34m=\u001b[0m \u001b[0mnp\u001b[0m\u001b[0;34m.\u001b[0m\u001b[0msort\u001b[0m\u001b[0;34m(\u001b[0m\u001b[0;34m[\u001b[0m\u001b[0;34m[\u001b[0m\u001b[0mfd\u001b[0m\u001b[0;34m[\u001b[0m\u001b[0;34m'price'\u001b[0m\u001b[0;34m]\u001b[0m\u001b[0;34m,\u001b[0m \u001b[0mfd\u001b[0m\u001b[0;34m[\u001b[0m\u001b[0;34m'size'\u001b[0m\u001b[0;34m]\u001b[0m\u001b[0;34m]\u001b[0m \u001b[0;32mfor\u001b[0m \u001b[0mfd\u001b[0m \u001b[0;32min\u001b[0m \u001b[0mdocs\u001b[0m \u001b[0;32mif\u001b[0m \u001b[0mfloat\u001b[0m\u001b[0;34m(\u001b[0m\u001b[0mfd\u001b[0m\u001b[0;34m[\u001b[0m\u001b[0;34m\"size\"\u001b[0m\u001b[0;34m]\u001b[0m\u001b[0;34m)\u001b[0m \u001b[0;34m>\u001b[0m \u001b[0;36m10\u001b[0m \u001b[0;34m]\u001b[0m\u001b[0;34m)\u001b[0m\u001b[0;34m\u001b[0m\u001b[0;34m\u001b[0m\u001b[0m\n\u001b[0m\u001b[1;32m      5\u001b[0m \u001b[0mx\u001b[0m \u001b[0;34m=\u001b[0m \u001b[0mnp\u001b[0m\u001b[0;34m.\u001b[0m\u001b[0msort\u001b[0m\u001b[0;34m(\u001b[0m\u001b[0mnpvals\u001b[0m\u001b[0;34m[\u001b[0m\u001b[0;34m:\u001b[0m\u001b[0;34m,\u001b[0m \u001b[0;36m1\u001b[0m\u001b[0;34m]\u001b[0m\u001b[0;34m)\u001b[0m\u001b[0;34m\u001b[0m\u001b[0;34m\u001b[0m\u001b[0m\n\u001b[1;32m      6\u001b[0m \u001b[0my\u001b[0m \u001b[0;34m=\u001b[0m \u001b[0mnpvals\u001b[0m\u001b[0;34m[\u001b[0m\u001b[0;34m:\u001b[0m\u001b[0;34m,\u001b[0m \u001b[0;36m0\u001b[0m\u001b[0;34m]\u001b[0m\u001b[0;34m\u001b[0m\u001b[0;34m\u001b[0m\u001b[0m\n",
      "\u001b[0;32m<ipython-input-5-58c5750f74f0>\u001b[0m in \u001b[0;36m<listcomp>\u001b[0;34m(.0)\u001b[0m\n\u001b[1;32m      2\u001b[0m \u001b[0;34m\u001b[0m\u001b[0m\n\u001b[1;32m      3\u001b[0m \u001b[0mdocs\u001b[0m \u001b[0;34m=\u001b[0m \u001b[0mACC_collection\u001b[0m\u001b[0;34m.\u001b[0m\u001b[0mfind\u001b[0m\u001b[0;34m(\u001b[0m\u001b[0;34m)\u001b[0m\u001b[0;34m\u001b[0m\u001b[0;34m\u001b[0m\u001b[0m\n\u001b[0;32m----> 4\u001b[0;31m \u001b[0mnpvals\u001b[0m \u001b[0;34m=\u001b[0m \u001b[0mnp\u001b[0m\u001b[0;34m.\u001b[0m\u001b[0msort\u001b[0m\u001b[0;34m(\u001b[0m\u001b[0;34m[\u001b[0m\u001b[0;34m[\u001b[0m\u001b[0mfd\u001b[0m\u001b[0;34m[\u001b[0m\u001b[0;34m'price'\u001b[0m\u001b[0;34m]\u001b[0m\u001b[0;34m,\u001b[0m \u001b[0mfd\u001b[0m\u001b[0;34m[\u001b[0m\u001b[0;34m'size'\u001b[0m\u001b[0;34m]\u001b[0m\u001b[0;34m]\u001b[0m \u001b[0;32mfor\u001b[0m \u001b[0mfd\u001b[0m \u001b[0;32min\u001b[0m \u001b[0mdocs\u001b[0m \u001b[0;32mif\u001b[0m \u001b[0mfloat\u001b[0m\u001b[0;34m(\u001b[0m\u001b[0mfd\u001b[0m\u001b[0;34m[\u001b[0m\u001b[0;34m\"size\"\u001b[0m\u001b[0;34m]\u001b[0m\u001b[0;34m)\u001b[0m \u001b[0;34m>\u001b[0m \u001b[0;36m10\u001b[0m \u001b[0;34m]\u001b[0m\u001b[0;34m)\u001b[0m\u001b[0;34m\u001b[0m\u001b[0;34m\u001b[0m\u001b[0m\n\u001b[0m\u001b[1;32m      5\u001b[0m \u001b[0mx\u001b[0m \u001b[0;34m=\u001b[0m \u001b[0mnp\u001b[0m\u001b[0;34m.\u001b[0m\u001b[0msort\u001b[0m\u001b[0;34m(\u001b[0m\u001b[0mnpvals\u001b[0m\u001b[0;34m[\u001b[0m\u001b[0;34m:\u001b[0m\u001b[0;34m,\u001b[0m \u001b[0;36m1\u001b[0m\u001b[0;34m]\u001b[0m\u001b[0;34m)\u001b[0m\u001b[0;34m\u001b[0m\u001b[0;34m\u001b[0m\u001b[0m\n\u001b[1;32m      6\u001b[0m \u001b[0my\u001b[0m \u001b[0;34m=\u001b[0m \u001b[0mnpvals\u001b[0m\u001b[0;34m[\u001b[0m\u001b[0;34m:\u001b[0m\u001b[0;34m,\u001b[0m \u001b[0;36m0\u001b[0m\u001b[0;34m]\u001b[0m\u001b[0;34m\u001b[0m\u001b[0;34m\u001b[0m\u001b[0m\n",
      "\u001b[0;31mKeyError\u001b[0m: 'size'"
     ]
    }
   ],
   "source": [
    "\n",
    "\n",
    "docs = ACC_collection.find()\n",
    "npvals = np.sort([[fd['price'], fd['size']] for fd in docs if float(fd[\"size\"]) > 10 ])\n",
    "x = np.sort(npvals[:, 1])\n",
    "y = npvals[:, 0]"
   ]
  },
  {
   "cell_type": "code",
   "execution_count": 54,
   "id": "28a2bdfa",
   "metadata": {
    "scrolled": true
   },
   "outputs": [
    {
     "data": {
      "image/png": "[encoded data removed]",
      "text/plain": [
       "<Figure size 432x288 with 1 Axes>"
      ]
     },
     "metadata": {
      "needs_background": "light"
     },
     "output_type": "display_data"
    }
   ],
   "source": [
    "# importing the required module\n",
    "import matplotlib.pyplot as plt\n",
    "  \n",
    "# # x axis values\n",
    "# x = [1,2,3]\n",
    "# # corresponding y axis values\n",
    "# y = [2,4,1]\n",
    "  \n",
    "# plotting the points \n",
    "plt.plot(x, y)\n",
    "  \n",
    "# naming the x axis\n",
    "plt.xlabel('x - axis')\n",
    "# naming the y axis\n",
    "plt.ylabel('y - axis')\n",
    "  \n",
    "# giving a title to my graph\n",
    "plt.title('My first graph!')\n",
    "  \n",
    "# function to show the plot\n",
    "plt.show()"
   ]
  },
  {
   "cell_type": "code",
   "execution_count": 39,
   "id": "3a926bac",
   "metadata": {},
   "outputs": [],
   "source": [
    "docs = ACC_collection.find()"
   ]
  },
  {
   "cell_type": "code",
   "execution_count": 40,
   "id": "c04a7e9b",
   "metadata": {},
   "outputs": [
    {
     "data": {
      "text/plain": [
       "{'_id': ObjectId('60ba97c4e3d2c41b9db40178'),\n",
       " 'price': 34466.85,\n",
       " 'size': 0.0030150900000000002}"
      ]
     },
     "execution_count": 40,
     "metadata": {},
     "output_type": "execute_result"
    }
   ],
   "source": [
    "docs.next()"
   ]
  },
  {
   "cell_type": "code",
   "execution_count": 55,
   "id": "6d75dd1c",
   "metadata": {},
   "outputs": [],
   "source": [
    "ACC_collection_buy = db.ACC_collection_buy \n",
    "ACC_collection_sell = db.ACC_collection_sell"
   ]
  },
  {
   "cell_type": "code",
   "execution_count": 87,
   "id": "ef6fe4db",
   "metadata": {},
   "outputs": [],
   "source": [
    "docsell = ACC_collection_sell.find()\n",
    "npvalsell = np.sort([[fd['price'], fd['size']] for fd in docsell if float(fd[\"size\"]) ])\n",
    "x = np.sort(npvalsell[:, 1])\n",
    "y = npvalsell[:, 0]"
   ]
  },
  {
   "cell_type": "code",
   "execution_count": 133,
   "id": "403cc1f6",
   "metadata": {},
   "outputs": [
    {
     "ename": "ModuleNotFoundError",
     "evalue": "No module named 'ISODate'",
     "output_type": "error",
     "traceback": [
      "\u001b[0;31m---------------------------------------------------------------------------\u001b[0m",
      "\u001b[0;31mModuleNotFoundError\u001b[0m                       Traceback (most recent call last)",
      "\u001b[0;32m<ipython-input-133-373a90144119>\u001b[0m in \u001b[0;36m<module>\u001b[0;34m\u001b[0m\n\u001b[0;32m----> 1\u001b[0;31m \u001b[0;32mimport\u001b[0m \u001b[0mISODate\u001b[0m\u001b[0;34m\u001b[0m\u001b[0;34m\u001b[0m\u001b[0m\n\u001b[0m",
      "\u001b[0;31mModuleNotFoundError\u001b[0m: No module named 'ISODate'"
     ]
    }
   ],
   "source": [
    "import ISODate"
   ]
  },
  {
   "cell_type": "code",
   "execution_count": 173,
   "id": "e44cfe8c",
   "metadata": {},
   "outputs": [],
   "source": [
    "docsell = ACC_collection_sell.find( { 'datetime' : {'$lte': dateutil.parser.isoparse('2014-08-24T07:52:04.945306Z'), '$gte': dateutil.parser.isoparse('2014-09-24T07:51:04.958496Z')}})"
   ]
  },
  {
   "cell_type": "code",
   "execution_count": 174,
   "id": "c766d24c",
   "metadata": {},
   "outputs": [
    {
     "data": {
      "text/plain": [
       "datetime.datetime(2014, 9, 24, 7, 52, 4, 945306, tzinfo=tzutc())"
      ]
     },
     "execution_count": 174,
     "metadata": {},
     "output_type": "execute_result"
    }
   ],
   "source": [
    "dateutil.parser.isoparse('2014-09-24T07:52:04.945306Z')"
   ]
  },
  {
   "cell_type": "code",
   "execution_count": 175,
   "id": "fe01b4fe",
   "metadata": {
    "scrolled": true
   },
   "outputs": [
    {
     "ename": "StopIteration",
     "evalue": "",
     "output_type": "error",
     "traceback": [
      "\u001b[0;31m---------------------------------------------------------------------------\u001b[0m",
      "\u001b[0;31mStopIteration\u001b[0m                             Traceback (most recent call last)",
      "\u001b[0;32m<ipython-input-175-0f5b7cb2ff8a>\u001b[0m in \u001b[0;36m<module>\u001b[0;34m\u001b[0m\n\u001b[0;32m----> 1\u001b[0;31m \u001b[0mdocsell\u001b[0m\u001b[0;34m.\u001b[0m\u001b[0mnext\u001b[0m\u001b[0;34m(\u001b[0m\u001b[0;34m)\u001b[0m\u001b[0;34m\u001b[0m\u001b[0;34m\u001b[0m\u001b[0m\n\u001b[0m",
      "\u001b[0;32m/opt/conda/lib/python3.8/site-packages/pymongo/cursor.py\u001b[0m in \u001b[0;36mnext\u001b[0;34m(self)\u001b[0m\n\u001b[1;32m   1138\u001b[0m                 \u001b[0;32mreturn\u001b[0m \u001b[0mself\u001b[0m\u001b[0;34m.\u001b[0m\u001b[0m__data\u001b[0m\u001b[0;34m.\u001b[0m\u001b[0mpopleft\u001b[0m\u001b[0;34m(\u001b[0m\u001b[0;34m)\u001b[0m\u001b[0;34m\u001b[0m\u001b[0;34m\u001b[0m\u001b[0m\n\u001b[1;32m   1139\u001b[0m         \u001b[0;32melse\u001b[0m\u001b[0;34m:\u001b[0m\u001b[0;34m\u001b[0m\u001b[0;34m\u001b[0m\u001b[0m\n\u001b[0;32m-> 1140\u001b[0;31m             \u001b[0;32mraise\u001b[0m \u001b[0mStopIteration\u001b[0m\u001b[0;34m\u001b[0m\u001b[0;34m\u001b[0m\u001b[0m\n\u001b[0m\u001b[1;32m   1141\u001b[0m \u001b[0;34m\u001b[0m\u001b[0m\n\u001b[1;32m   1142\u001b[0m     \u001b[0m__next__\u001b[0m \u001b[0;34m=\u001b[0m \u001b[0mnext\u001b[0m\u001b[0;34m\u001b[0m\u001b[0;34m\u001b[0m\u001b[0m\n",
      "\u001b[0;31mStopIteration\u001b[0m: "
     ]
    }
   ],
   "source": [
    "docsell.next()"
   ]
  },
  {
   "cell_type": "code",
   "execution_count": 88,
   "id": "d44bd52e",
   "metadata": {
    "scrolled": true
   },
   "outputs": [
    {
     "data": {
      "image/png": "[encoded data removed]",
      "text/plain": [
       "<Figure size 432x288 with 1 Axes>"
      ]
     },
     "metadata": {
      "needs_background": "light"
     },
     "output_type": "display_data"
    }
   ],
   "source": [
    "import matplotlib.pyplot as plt\n",
    "fig = plt.figure()\n",
    "ax = fig.add_axes([0,0,1,1])\n",
    "ax.bar(x,y)\n",
    "plt.show()"
   ]
  },
  {
   "cell_type": "code",
   "execution_count": 76,
   "id": "fe59ba6d",
   "metadata": {},
   "outputs": [],
   "source": [
    "b = BTC_collection.find()"
   ]
  },
  {
   "cell_type": "code",
   "execution_count": 80,
   "id": "c8e1fa82",
   "metadata": {},
   "outputs": [
    {
     "data": {
      "text/plain": [
       "{'_id': ObjectId('60b4555328938b1920a0a92d'),\n",
       " 'type': 'ticker',\n",
       " 'sequence': 25784465767,\n",
       " 'product_id': 'BTC-USD',\n",
       " 'price': '34461.31',\n",
       " 'open_24h': '34789.78',\n",
       " 'volume_24h': '14701.10322518',\n",
       " 'low_24h': '34287.18',\n",
       " 'high_24h': '36500',\n",
       " 'volume_30d': '894738.53316694',\n",
       " 'best_bid': '34461.30',\n",
       " 'best_ask': '34461.31',\n",
       " 'side': 'buy',\n",
       " 'time': '2021-05-31T03:13:43.010030Z',\n",
       " 'trade_id': 181491840,\n",
       " 'last_size': '0.00277843'}"
      ]
     },
     "execution_count": 80,
     "metadata": {},
     "output_type": "execute_result"
    }
   ],
   "source": [
    "b.next()"
   ]
  },
  {
   "cell_type": "code",
   "execution_count": 81,
   "id": "e2f9d5f5",
   "metadata": {},
   "outputs": [
    {
     "data": {
      "text/plain": [
       "{'_id': ObjectId('60bbe5e36f6c9d0948a95698'),\n",
       " 'price': 35830.6,\n",
       " 'size': -0.09495963999999998}"
      ]
     },
     "execution_count": 81,
     "metadata": {},
     "output_type": "execute_result"
    }
   ],
   "source": [
    "docsell = ACC_collection_sell.find()\n",
    "docsell.next()"
   ]
  },
  {
   "cell_type": "code",
   "execution_count": 91,
   "id": "b50e3669",
   "metadata": {},
   "outputs": [],
   "source": [
    "time = '2021-05-31T03:13:43.010030Z'"
   ]
  },
  {
   "cell_type": "code",
   "execution_count": 92,
   "id": "0b149e48",
   "metadata": {},
   "outputs": [
    {
     "name": "stdout",
     "output_type": "stream",
     "text": [
      "Time = 16:30\n"
     ]
    }
   ],
   "source": [
    "from datetime import *\n",
    "\n",
    "time = datetime.strptime(\"03/02/21 16:30\", \"%d/%m/%y %H:%M\")\n",
    "print(\"Time = {:d}:{:02d}\".format(time.hour, time.minute))"
   ]
  },
  {
   "cell_type": "code",
   "execution_count": 93,
   "id": "818857ea",
   "metadata": {},
   "outputs": [
    {
     "ename": "TypeError",
     "evalue": "fromisoformat: argument must be str",
     "output_type": "error",
     "traceback": [
      "\u001b[0;31m---------------------------------------------------------------------------\u001b[0m",
      "\u001b[0;31mTypeError\u001b[0m                                 Traceback (most recent call last)",
      "\u001b[0;32m<ipython-input-93-4712373546fe>\u001b[0m in \u001b[0;36m<module>\u001b[0;34m\u001b[0m\n\u001b[0;32m----> 1\u001b[0;31m \u001b[0mdatetime\u001b[0m\u001b[0;34m.\u001b[0m\u001b[0mfromisoformat\u001b[0m\u001b[0;34m(\u001b[0m\u001b[0mtime\u001b[0m\u001b[0;34m)\u001b[0m\u001b[0;34m\u001b[0m\u001b[0;34m\u001b[0m\u001b[0m\n\u001b[0m",
      "\u001b[0;31mTypeError\u001b[0m: fromisoformat: argument must be str"
     ]
    }
   ],
   "source": [
    "datetime.fromisoformat(time)"
   ]
  },
  {
   "cell_type": "code",
   "execution_count": 97,
   "id": "4d63fa55",
   "metadata": {},
   "outputs": [
    {
     "data": {
      "text/plain": [
       "datetime.datetime(2008, 9, 3, 20, 56, 35, 450686, tzinfo=tzutc())"
      ]
     },
     "execution_count": 97,
     "metadata": {},
     "output_type": "execute_result"
    }
   ],
   "source": [
    "import dateutil.parser\n",
    "dateutil.parser.isoparse('2008-09-03T20:56:35.450686Z')"
   ]
  },
  {
   "cell_type": "code",
   "execution_count": 102,
   "id": "c5b2e172",
   "metadata": {},
   "outputs": [],
   "source": [
    "time = '2021-05-31T03:13:43.010030Z'"
   ]
  },
  {
   "cell_type": "code",
   "execution_count": 110,
   "id": "48569b44",
   "metadata": {},
   "outputs": [],
   "source": [
    "\n",
    "dt = dateutil.parser.isoparse(time)"
   ]
  },
  {
   "cell_type": "code",
   "execution_count": 111,
   "id": "8a3826ed",
   "metadata": {},
   "outputs": [
    {
     "data": {
      "text/plain": [
       "datetime.datetime(2021, 5, 31, 3, 13, 43, 10030, tzinfo=tzutc())"
      ]
     },
     "execution_count": 111,
     "metadata": {},
     "output_type": "execute_result"
    }
   ],
   "source": [
    "dt"
   ]
  },
  {
   "cell_type": "code",
   "execution_count": 112,
   "id": "6bb4d6bb",
   "metadata": {},
   "outputs": [
    {
     "name": "stdout",
     "output_type": "stream",
     "text": [
      "Time = 3:13\n"
     ]
    }
   ],
   "source": [
    "print(\"Time = {:d}:{:02d}\".format(dt.hour, dt.minute))"
   ]
  },
  {
   "cell_type": "code",
   "execution_count": 113,
   "id": "799c980b",
   "metadata": {},
   "outputs": [
    {
     "data": {
      "text/plain": [
       "'2021-05-31T03:13:43.010030+00:00'"
      ]
     },
     "execution_count": 113,
     "metadata": {},
     "output_type": "execute_result"
    }
   ],
   "source": [
    "dt.isoformat()"
   ]
  },
  {
   "cell_type": "code",
   "execution_count": 114,
   "id": "d47df7c4",
   "metadata": {},
   "outputs": [],
   "source": [
    "dt = dt.replace(second=0, microsecond=0) "
   ]
  },
  {
   "cell_type": "code",
   "execution_count": 115,
   "id": "108c4c6c",
   "metadata": {},
   "outputs": [
    {
     "data": {
      "text/plain": [
       "'2021-05-31T03:13:00+00:00'"
      ]
     },
     "execution_count": 115,
     "metadata": {},
     "output_type": "execute_result"
    }
   ],
   "source": [
    "dt.isoformat()"
   ]
  },
  {
   "cell_type": "code",
   "execution_count": 118,
   "id": "98593a18",
   "metadata": {},
   "outputs": [],
   "source": [
    "td = db.TD"
   ]
  },
  {
   "cell_type": "code",
   "execution_count": 123,
   "id": "f7cf85f1",
   "metadata": {},
   "outputs": [
    {
     "data": {
      "text/plain": [
       "<pymongo.results.DeleteResult at 0x7f8eff051a00>"
      ]
     },
     "execution_count": 123,
     "metadata": {},
     "output_type": "execute_result"
    }
   ],
   "source": [
    "td.delete_many({})"
   ]
  },
  {
   "cell_type": "code",
   "execution_count": 128,
   "id": "585e26e6",
   "metadata": {},
   "outputs": [
    {
     "data": {
      "text/plain": [
       "{'_id': ObjectId('60bbef586f6c9d0948aa2798'),\n",
       " 'datetime': datetime.datetime(2021, 5, 31, 3, 13),\n",
       " 'price': 3,\n",
       " 'size': 3}"
      ]
     },
     "execution_count": 128,
     "metadata": {},
     "output_type": "execute_result"
    }
   ],
   "source": [
    "\n",
    "td.find_one_and_update({ \"price\" : 3, \"datetime\" : dt },\n",
    "{\"$inc\": \n",
    "    {\"size\": 2}\n",
    "},upsert=True)"
   ]
  },
  {
   "cell_type": "code",
   "execution_count": 129,
   "id": "d7130c83",
   "metadata": {},
   "outputs": [
    {
     "data": {
      "text/plain": [
       "{'_id': ObjectId('60bbef586f6c9d0948aa2798'),\n",
       " 'datetime': datetime.datetime(2021, 5, 31, 3, 13),\n",
       " 'price': 3,\n",
       " 'size': 5}"
      ]
     },
     "execution_count": 129,
     "metadata": {},
     "output_type": "execute_result"
    }
   ],
   "source": [
    "\n",
    "td.find().next()"
   ]
  },
  {
   "cell_type": "code",
   "execution_count": 182,
   "id": "e886a097",
   "metadata": {},
   "outputs": [],
   "source": [
    "docsell = ACC_collection_sell.find()"
   ]
  },
  {
   "cell_type": "code",
   "execution_count": 185,
   "id": "9cd65a76",
   "metadata": {},
   "outputs": [],
   "source": [
    "allsell = [r for r in docsell]"
   ]
  },
  {
   "cell_type": "code",
   "execution_count": 186,
   "id": "f6cf7206",
   "metadata": {},
   "outputs": [
    {
     "data": {
      "text/plain": [
       "5779"
      ]
     },
     "execution_count": 186,
     "metadata": {},
     "output_type": "execute_result"
    }
   ],
   "source": [
    "len(allsell)"
   ]
  },
  {
   "cell_type": "code",
   "execution_count": 187,
   "id": "5e8bb22a",
   "metadata": {},
   "outputs": [
    {
     "data": {
      "text/plain": [
       "{'_id': ObjectId('60bbf3eb6f6c9d0948aa8119'),\n",
       " 'datetime': datetime.datetime(2021, 6, 5, 22, 0, 19, 162000),\n",
       " 'price': 34992.88,\n",
       " 'size': -0.05}"
      ]
     },
     "execution_count": 187,
     "metadata": {},
     "output_type": "execute_result"
    }
   ],
   "source": [
    "allsell[-1]"
   ]
  },
  {
   "cell_type": "code",
   "execution_count": 241,
   "id": "1dc03754",
   "metadata": {},
   "outputs": [],
   "source": [
    "import datetime"
   ]
  },
  {
   "cell_type": "code",
   "execution_count": 245,
   "id": "0300e3cd",
   "metadata": {},
   "outputs": [],
   "source": [
    "# data = [r for r in allsell[:] if r['buy_size'] > 0 and r['sell_size'] < 0]"
   ]
  },
  {
   "cell_type": "code",
   "execution_count": 247,
   "id": "79232d06",
   "metadata": {},
   "outputs": [],
   "source": [
    "# data"
   ]
  },
  {
   "cell_type": "code",
   "execution_count": 248,
   "id": "c2cadc8b",
   "metadata": {},
   "outputs": [],
   "source": [
    "#ACC_collection.delete_many({})"
   ]
  },
  {
   "cell_type": "code",
   "execution_count": 249,
   "id": "2b7f2cb7",
   "metadata": {},
   "outputs": [],
   "source": [
    "import pandas as pd"
   ]
  },
  {
   "cell_type": "code",
   "execution_count": 435,
   "id": "96ec908f",
   "metadata": {},
   "outputs": [],
   "source": [
    "def aggregateByFreq(frequency, df):\n",
    "    aggdf = df.groupby(pd.Grouper(freq=frequency))[[\"volume\"]].sum()\n",
    "    aggmdf = df.groupby(pd.Grouper(freq=frequency))[[\"vmap\"]].mean()\n",
    "    aggdf[\"price\"] = (aggdf[\"volume\"] * aggmdf[\"vmap\"]) / aggdf[\"volume\"]\n",
    "    return aggdf"
   ]
  },
  {
   "cell_type": "code",
   "execution_count": null,
   "id": "ebfcbf9e",
   "metadata": {},
   "outputs": [],
   "source": []
  },
  {
   "cell_type": "code",
   "execution_count": 76,
   "id": "841be2bd",
   "metadata": {},
   "outputs": [],
   "source": [
    "# dsell = ACC_collection_sell.find({\"datetime\": {\"$gt\": datetime.datetime(2020, 12, 1)}})\n",
    "acc = ACC_collection.find({\"datetime\": {\"$lt\": dateutil.parser.isoparse('2021-06-06T00:00:00.450686Z')}})\n"
   ]
  },
  {
   "cell_type": "code",
   "execution_count": 125,
   "id": "be705335",
   "metadata": {},
   "outputs": [],
   "source": [
    "acc = ACC_collection.find({\"datetime\": {\"$lt\": dateutil.parser.isoparse('2021-06-06T22:19:35.450686Z')\n",
    "                                       ,\"$gt\": dateutil.parser.isoparse('2021-06-05T22:17:00.450686Z')}})"
   ]
  },
  {
   "cell_type": "code",
   "execution_count": 477,
   "id": "db58113d",
   "metadata": {
    "scrolled": true
   },
   "outputs": [],
   "source": [
    "acc = ACC_collection.find({\"datetime\": {\"$lt\": dateutil.parser.isoparse('2021-06-08T22:19:35.450686Z')\n",
    "                                       ,\"$gt\": dateutil.parser.isoparse('2021-06-06T03:00:00.450686Z')}})\n",
    "\n",
    "allsell = [r for r in acc]\n",
    "data = [r for r in allsell[:]]\n",
    "\n",
    "df = pd.DataFrame.from_records(data, columns=[\"datetime\", \"price\", \"buy_size\", \"sell_size\"])\n",
    "\n",
    "### let's do the volume first by minute\n",
    "\n",
    "bsdf = df.groupby(pd.Grouper(key='datetime',freq='Min'))[[\"buy_size\", \"sell_size\"]].sum()\n",
    "\n",
    "mpdf = df.groupby(pd.Grouper(key='datetime',freq='Min'))[[\"price\"]].mean()\n",
    "\n",
    "\n",
    "vmap_volume = bsdf[\"buy_size\"] + np.abs(bsdf[\"sell_size\"])\n",
    "\n",
    "vol = pd.DataFrame(vmap_volume, columns=[\"vmap_volume\"])\n",
    "\n",
    "vmap = ((bsdf[\"buy_size\"] + np.abs(bsdf[\"sell_size\"])) * mpdf[\"price\"]) / (bsdf[\"buy_size\"] + np.abs(bsdf[\"sell_size\"]))"
   ]
  },
  {
   "cell_type": "code",
   "execution_count": 478,
   "id": "9cc26896",
   "metadata": {},
   "outputs": [],
   "source": [
    "# vmap = (vol[\"vmap_volume\"] * mpdf[\"price\"]) / vol[\"vmap_volume\"]"
   ]
  },
  {
   "cell_type": "code",
   "execution_count": 479,
   "id": "c4ca5960",
   "metadata": {},
   "outputs": [],
   "source": [
    "bsdf[\"volume\"] = vol\n",
    "bsdf[\"vmap\"] = vmap"
   ]
  },
  {
   "cell_type": "code",
   "execution_count": 480,
   "id": "9aa965e2",
   "metadata": {
    "scrolled": false
   },
   "outputs": [
    {
     "data": {
      "text/plain": [
       "<AxesSubplot:xlabel='datetime'>"
      ]
     },
     "execution_count": 480,
     "metadata": {},
     "output_type": "execute_result"
    },
    {
     "data": {
      "image/png": "[encoded data removed]",
      "text/plain": [
       "<Figure size 432x288 with 1 Axes>"
      ]
     },
     "metadata": {
      "needs_background": "light"
     },
     "output_type": "display_data"
    }
   ],
   "source": [
    "delta = bsdf[\"buy_size\"] + bsdf[\"sell_size\"]\n",
    "bsdf[\"delta\"] = delta\n",
    "bsdf[\"vmap\"][-250:].plot.line()\n",
    "\n",
    "# deltabar.loc['2021-06-07 04:45:00':'2021-06-08 09:05:00'].plot.bar()"
   ]
  },
  {
   "cell_type": "code",
   "execution_count": 474,
   "id": "f79737bd",
   "metadata": {},
   "outputs": [
    {
     "data": {
      "text/html": [
       "<div>\n",
       "<style scoped>\n",
       "    .dataframe tbody tr th:only-of-type {\n",
       "        vertical-align: middle;\n",
       "    }\n",
       "\n",
       "    .dataframe tbody tr th {\n",
       "        vertical-align: top;\n",
       "    }\n",
       "\n",
       "    .dataframe thead th {\n",
       "        text-align: right;\n",
       "    }\n",
       "</style>\n",
       "<table border=\"1\" class=\"dataframe\">\n",
       "  <thead>\n",
       "    <tr style=\"text-align: right;\">\n",
       "      <th></th>\n",
       "      <th>volume</th>\n",
       "      <th>price</th>\n",
       "    </tr>\n",
       "    <tr>\n",
       "      <th>datetime</th>\n",
       "      <th></th>\n",
       "      <th></th>\n",
       "    </tr>\n",
       "  </thead>\n",
       "  <tbody>\n",
       "    <tr>\n",
       "      <th>2021-06-06 15:45:00</th>\n",
       "      <td>0.094280</td>\n",
       "      <td>36109.820000</td>\n",
       "    </tr>\n",
       "    <tr>\n",
       "      <th>2021-06-06 15:50:00</th>\n",
       "      <td>12.664272</td>\n",
       "      <td>36125.442896</td>\n",
       "    </tr>\n",
       "    <tr>\n",
       "      <th>2021-06-06 15:55:00</th>\n",
       "      <td>43.120294</td>\n",
       "      <td>36180.076725</td>\n",
       "    </tr>\n",
       "    <tr>\n",
       "      <th>2021-06-06 16:00:00</th>\n",
       "      <td>31.672957</td>\n",
       "      <td>36220.882616</td>\n",
       "    </tr>\n",
       "    <tr>\n",
       "      <th>2021-06-06 16:05:00</th>\n",
       "      <td>17.982698</td>\n",
       "      <td>36254.655585</td>\n",
       "    </tr>\n",
       "    <tr>\n",
       "      <th>...</th>\n",
       "      <td>...</td>\n",
       "      <td>...</td>\n",
       "    </tr>\n",
       "    <tr>\n",
       "      <th>2021-06-07 05:15:00</th>\n",
       "      <td>12.769012</td>\n",
       "      <td>36300.793203</td>\n",
       "    </tr>\n",
       "    <tr>\n",
       "      <th>2021-06-07 05:20:00</th>\n",
       "      <td>42.331129</td>\n",
       "      <td>36274.461236</td>\n",
       "    </tr>\n",
       "    <tr>\n",
       "      <th>2021-06-07 05:25:00</th>\n",
       "      <td>23.023377</td>\n",
       "      <td>36252.400643</td>\n",
       "    </tr>\n",
       "    <tr>\n",
       "      <th>2021-06-07 05:30:00</th>\n",
       "      <td>66.335665</td>\n",
       "      <td>36196.091154</td>\n",
       "    </tr>\n",
       "    <tr>\n",
       "      <th>2021-06-07 05:35:00</th>\n",
       "      <td>4.101594</td>\n",
       "      <td>36187.293560</td>\n",
       "    </tr>\n",
       "  </tbody>\n",
       "</table>\n",
       "<p>167 rows × 2 columns</p>\n",
       "</div>"
      ],
      "text/plain": [
       "                        volume         price\n",
       "datetime                                    \n",
       "2021-06-06 15:45:00   0.094280  36109.820000\n",
       "2021-06-06 15:50:00  12.664272  36125.442896\n",
       "2021-06-06 15:55:00  43.120294  36180.076725\n",
       "2021-06-06 16:00:00  31.672957  36220.882616\n",
       "2021-06-06 16:05:00  17.982698  36254.655585\n",
       "...                        ...           ...\n",
       "2021-06-07 05:15:00  12.769012  36300.793203\n",
       "2021-06-07 05:20:00  42.331129  36274.461236\n",
       "2021-06-07 05:25:00  23.023377  36252.400643\n",
       "2021-06-07 05:30:00  66.335665  36196.091154\n",
       "2021-06-07 05:35:00   4.101594  36187.293560\n",
       "\n",
       "[167 rows x 2 columns]"
      ]
     },
     "execution_count": 474,
     "metadata": {},
     "output_type": "execute_result"
    }
   ],
   "source": [
    "ndf = aggregateByFreq('5Min', bsdf)\n",
    "ndf"
   ]
  },
  {
   "cell_type": "code",
   "execution_count": 476,
   "id": "19901214",
   "metadata": {},
   "outputs": [
    {
     "data": {
      "text/plain": [
       "<AxesSubplot:xlabel='datetime'>"
      ]
     },
     "execution_count": 476,
     "metadata": {},
     "output_type": "execute_result"
    },
    {
     "data": {
      "image/png": "[encoded data removed]",
      "text/plain": [
       "<Figure size 432x288 with 1 Axes>"
      ]
     },
     "metadata": {
      "needs_background": "light"
     },
     "output_type": "display_data"
    }
   ],
   "source": [
    "ndf[\"price\"].plot.line()"
   ]
  },
  {
   "cell_type": "code",
   "execution_count": 491,
   "id": "b4ec4757",
   "metadata": {
    "scrolled": false
   },
   "outputs": [
    {
     "data": {
      "text/plain": [
       "<AxesSubplot:xlabel='datetime'>"
      ]
     },
     "execution_count": 491,
     "metadata": {},
     "output_type": "execute_result"
    },
    {
     "data": {
      "image/png": "[encoded data removed]",
      "text/plain": [
       "<Figure size 432x288 with 1 Axes>"
      ]
     },
     "metadata": {
      "needs_background": "light"
     },
     "output_type": "display_data"
    }
   ],
   "source": [
    "deltabar = bsdf.groupby(pd.Grouper(freq='Min'))[\"delta\"].sum()\n",
    "# deltabar[-25:].plot.bar()\n",
    "\n",
    "deltabar.loc['2021-06-07 05:30:00':'2021-06-08 09:05:00'][-30:].plot.bar()"
   ]
  },
  {
   "cell_type": "code",
   "execution_count": 409,
   "id": "90564451",
   "metadata": {},
   "outputs": [
    {
     "data": {
      "text/html": [
       "<div>\n",
       "<style scoped>\n",
       "    .dataframe tbody tr th:only-of-type {\n",
       "        vertical-align: middle;\n",
       "    }\n",
       "\n",
       "    .dataframe tbody tr th {\n",
       "        vertical-align: top;\n",
       "    }\n",
       "\n",
       "    .dataframe thead th {\n",
       "        text-align: right;\n",
       "    }\n",
       "</style>\n",
       "<table border=\"1\" class=\"dataframe\">\n",
       "  <thead>\n",
       "    <tr style=\"text-align: right;\">\n",
       "      <th></th>\n",
       "      <th>buy_size</th>\n",
       "      <th>sell_size</th>\n",
       "      <th>volume</th>\n",
       "      <th>vmap</th>\n",
       "      <th>delta</th>\n",
       "    </tr>\n",
       "    <tr>\n",
       "      <th>datetime</th>\n",
       "      <th></th>\n",
       "      <th></th>\n",
       "      <th></th>\n",
       "      <th></th>\n",
       "      <th></th>\n",
       "    </tr>\n",
       "  </thead>\n",
       "  <tbody>\n",
       "    <tr>\n",
       "      <th>2021-06-06 15:49:00</th>\n",
       "      <td>0.004006</td>\n",
       "      <td>-0.090274</td>\n",
       "      <td>0.094280</td>\n",
       "      <td>36109.820000</td>\n",
       "      <td>-0.086268</td>\n",
       "    </tr>\n",
       "    <tr>\n",
       "      <th>2021-06-06 15:50:00</th>\n",
       "      <td>1.679846</td>\n",
       "      <td>-1.174185</td>\n",
       "      <td>2.854031</td>\n",
       "      <td>36104.556933</td>\n",
       "      <td>0.505661</td>\n",
       "    </tr>\n",
       "    <tr>\n",
       "      <th>2021-06-06 15:51:00</th>\n",
       "      <td>0.414902</td>\n",
       "      <td>-0.484109</td>\n",
       "      <td>0.899012</td>\n",
       "      <td>36128.086842</td>\n",
       "      <td>-0.069207</td>\n",
       "    </tr>\n",
       "    <tr>\n",
       "      <th>2021-06-06 15:52:00</th>\n",
       "      <td>2.770523</td>\n",
       "      <td>-0.037961</td>\n",
       "      <td>2.808484</td>\n",
       "      <td>36111.808333</td>\n",
       "      <td>2.732562</td>\n",
       "    </tr>\n",
       "    <tr>\n",
       "      <th>2021-06-06 15:53:00</th>\n",
       "      <td>1.799422</td>\n",
       "      <td>-0.483620</td>\n",
       "      <td>2.283042</td>\n",
       "      <td>36137.207077</td>\n",
       "      <td>1.315802</td>\n",
       "    </tr>\n",
       "    <tr>\n",
       "      <th>...</th>\n",
       "      <td>...</td>\n",
       "      <td>...</td>\n",
       "      <td>...</td>\n",
       "      <td>...</td>\n",
       "      <td>...</td>\n",
       "    </tr>\n",
       "    <tr>\n",
       "      <th>2021-06-07 05:05:00</th>\n",
       "      <td>1.376356</td>\n",
       "      <td>-3.382145</td>\n",
       "      <td>4.758501</td>\n",
       "      <td>36304.298475</td>\n",
       "      <td>-2.005789</td>\n",
       "    </tr>\n",
       "    <tr>\n",
       "      <th>2021-06-07 05:06:00</th>\n",
       "      <td>1.738242</td>\n",
       "      <td>-0.783622</td>\n",
       "      <td>2.521864</td>\n",
       "      <td>36287.735926</td>\n",
       "      <td>0.954620</td>\n",
       "    </tr>\n",
       "    <tr>\n",
       "      <th>2021-06-07 05:07:00</th>\n",
       "      <td>3.340453</td>\n",
       "      <td>-1.439703</td>\n",
       "      <td>4.780156</td>\n",
       "      <td>36249.546780</td>\n",
       "      <td>1.900750</td>\n",
       "    </tr>\n",
       "    <tr>\n",
       "      <th>2021-06-07 05:08:00</th>\n",
       "      <td>0.981459</td>\n",
       "      <td>-1.088377</td>\n",
       "      <td>2.069836</td>\n",
       "      <td>36240.324933</td>\n",
       "      <td>-0.106918</td>\n",
       "    </tr>\n",
       "    <tr>\n",
       "      <th>2021-06-07 05:09:00</th>\n",
       "      <td>0.018000</td>\n",
       "      <td>0.000000</td>\n",
       "      <td>0.018000</td>\n",
       "      <td>36242.440000</td>\n",
       "      <td>0.018000</td>\n",
       "    </tr>\n",
       "  </tbody>\n",
       "</table>\n",
       "<p>801 rows × 5 columns</p>\n",
       "</div>"
      ],
      "text/plain": [
       "                     buy_size  sell_size    volume          vmap     delta\n",
       "datetime                                                                  \n",
       "2021-06-06 15:49:00  0.004006  -0.090274  0.094280  36109.820000 -0.086268\n",
       "2021-06-06 15:50:00  1.679846  -1.174185  2.854031  36104.556933  0.505661\n",
       "2021-06-06 15:51:00  0.414902  -0.484109  0.899012  36128.086842 -0.069207\n",
       "2021-06-06 15:52:00  2.770523  -0.037961  2.808484  36111.808333  2.732562\n",
       "2021-06-06 15:53:00  1.799422  -0.483620  2.283042  36137.207077  1.315802\n",
       "...                       ...        ...       ...           ...       ...\n",
       "2021-06-07 05:05:00  1.376356  -3.382145  4.758501  36304.298475 -2.005789\n",
       "2021-06-07 05:06:00  1.738242  -0.783622  2.521864  36287.735926  0.954620\n",
       "2021-06-07 05:07:00  3.340453  -1.439703  4.780156  36249.546780  1.900750\n",
       "2021-06-07 05:08:00  0.981459  -1.088377  2.069836  36240.324933 -0.106918\n",
       "2021-06-07 05:09:00  0.018000   0.000000  0.018000  36242.440000  0.018000\n",
       "\n",
       "[801 rows x 5 columns]"
      ]
     },
     "execution_count": 409,
     "metadata": {},
     "output_type": "execute_result"
    }
   ],
   "source": [
    "bsdf"
   ]
  },
  {
   "cell_type": "code",
   "execution_count": 279,
   "id": "ffb76454",
   "metadata": {},
   "outputs": [
    {
     "data": {
      "text/plain": [
       "666"
      ]
     },
     "execution_count": 279,
     "metadata": {},
     "output_type": "execute_result"
    }
   ],
   "source": [
    "36140 - 35474"
   ]
  },
  {
   "cell_type": "code",
   "execution_count": 274,
   "id": "70376e84",
   "metadata": {},
   "outputs": [
    {
     "data": {
      "text/plain": [
       "320"
      ]
     },
     "execution_count": 274,
     "metadata": {},
     "output_type": "execute_result"
    }
   ],
   "source": [
    "36140 - 35820"
   ]
  },
  {
   "cell_type": "code",
   "execution_count": null,
   "id": "34a48e9a",
   "metadata": {},
   "outputs": [],
   "source": []
  },
  {
   "cell_type": "code",
   "execution_count": null,
   "id": "840f5825",
   "metadata": {},
   "outputs": [],
   "source": []
  },
  {
   "cell_type": "code",
   "execution_count": null,
   "id": "7a68d6a3",
   "metadata": {},
   "outputs": [],
   "source": []
  },
  {
   "cell_type": "code",
   "execution_count": null,
   "id": "3e5e0459",
   "metadata": {},
   "outputs": [],
   "source": []
  },
  {
   "cell_type": "code",
   "execution_count": 235,
   "id": "e97534e3",
   "metadata": {},
   "outputs": [
    {
     "data": {
      "text/plain": [
       "1310"
      ]
     },
     "execution_count": 235,
     "metadata": {},
     "output_type": "execute_result"
    }
   ],
   "source": [
    "2 * (36126 - 35471)"
   ]
  },
  {
   "cell_type": "code",
   "execution_count": 236,
   "id": "b575dca1",
   "metadata": {},
   "outputs": [
    {
     "ename": "NameError",
     "evalue": "name 'x' is not defined",
     "output_type": "error",
     "traceback": [
      "\u001b[0;31m---------------------------------------------------------------------------\u001b[0m",
      "\u001b[0;31mNameError\u001b[0m                                 Traceback (most recent call last)",
      "\u001b[0;32m<ipython-input-236-971395e7d6b4>\u001b[0m in \u001b[0;36m<module>\u001b[0;34m\u001b[0m\n\u001b[1;32m      8\u001b[0m \u001b[0;34m\u001b[0m\u001b[0m\n\u001b[1;32m      9\u001b[0m \u001b[0;31m# plotting the points\u001b[0m\u001b[0;34m\u001b[0m\u001b[0;34m\u001b[0m\u001b[0;34m\u001b[0m\u001b[0m\n\u001b[0;32m---> 10\u001b[0;31m \u001b[0mplt\u001b[0m\u001b[0;34m.\u001b[0m\u001b[0mplot\u001b[0m\u001b[0;34m(\u001b[0m\u001b[0mx\u001b[0m\u001b[0;34m,\u001b[0m \u001b[0my\u001b[0m\u001b[0;34m)\u001b[0m\u001b[0;34m\u001b[0m\u001b[0;34m\u001b[0m\u001b[0m\n\u001b[0m\u001b[1;32m     11\u001b[0m \u001b[0;34m\u001b[0m\u001b[0m\n\u001b[1;32m     12\u001b[0m \u001b[0;31m# naming the x axis\u001b[0m\u001b[0;34m\u001b[0m\u001b[0;34m\u001b[0m\u001b[0;34m\u001b[0m\u001b[0m\n",
      "\u001b[0;31mNameError\u001b[0m: name 'x' is not defined"
     ]
    }
   ],
   "source": [
    "# importing the required module\n",
    "import matplotlib.pyplot as plt\n",
    "  \n",
    "# # x axis values\n",
    "# x = [1,2,3]\n",
    "# # corresponding y axis values\n",
    "# y = [2,4,1]\n",
    "  \n",
    "# plotting the points \n",
    "plt.plot(x, y)\n",
    "  \n",
    "# naming the x axis\n",
    "plt.xlabel('x - axis')\n",
    "# naming the y axis\n",
    "plt.ylabel('y - axis')\n",
    "  \n",
    "# giving a title to my graph\n",
    "plt.title('My first graph!')\n",
    "  \n",
    "# function to show the plot\n",
    "plt.show()"
   ]
  },
  {
   "cell_type": "code",
   "execution_count": null,
   "id": "650ab0e7",
   "metadata": {},
   "outputs": [],
   "source": []
  }
 ],
 "metadata": {
  "kernelspec": {
   "display_name": "Python 3",
   "language": "python",
   "name": "python3"
  },
  "language_info": {
   "codemirror_mode": {
    "name": "ipython",
    "version": 3
   },
   "file_extension": ".py",
   "mimetype": "text/x-python",
   "name": "python",
   "nbconvert_exporter": "python",
   "pygments_lexer": "ipython3",
   "version": "3.8.5"
  }
 },
 "nbformat": 4,
 "nbformat_minor": 5
}
