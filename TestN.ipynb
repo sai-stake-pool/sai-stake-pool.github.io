{
 "cells": [
  {
   "cell_type": "code",
   "execution_count": 9,
   "id": "0397fdaa",
   "metadata": {},
   "outputs": [],
   "source": [
    "import multiprocessing\n",
    "import random\n",
    "import time\n",
    "from threading import current_thread\n",
    "\n",
    "import rx\n",
    "from rx.scheduler import ThreadPoolScheduler\n",
    "from rx import operators as ops\n",
    "from rx import create\n",
    "import cbpro\n",
    "from pymongo import MongoClient\n",
    "import numpy as np"
   ]
  },
  {
   "cell_type": "code",
   "execution_count": 20,
   "id": "b590c7f5",
   "metadata": {},
   "outputs": [],
   "source": [
    "mongo_client = MongoClient('mongodb://192.168.0.3:27017/')\n",
    "db = mongo_client.cryptocurrency_database\n",
    "BTC_collection = db.BTC_collection"
   ]
  },
  {
   "cell_type": "code",
   "execution_count": 28,
   "id": "12412204",
   "metadata": {},
   "outputs": [],
   "source": []
  },
  {
   "cell_type": "code",
   "execution_count": 23,
   "id": "eca04568",
   "metadata": {},
   "outputs": [
    {
     "data": {
      "text/plain": [
       "{'_id': ObjectId('60ba97c4e3d2c41b9db40178'),\n",
       " 'price': 34466.85,\n",
       " 'size': 0.0030150900000000002}"
      ]
     },
     "execution_count": 23,
     "metadata": {},
     "output_type": "execute_result"
    }
   ],
   "source": [
    "docs.next()"
   ]
  },
  {
   "cell_type": "code",
   "execution_count": 53,
   "id": "ea27b420",
   "metadata": {},
   "outputs": [],
   "source": [
    "ACC_collection = db.ACC_collection \n",
    "\n",
    "docs = ACC_collection.find()\n",
    "npvals = np.sort([[fd['price'], fd['size']] for fd in docs if float(fd[\"size\"]) > 10 ])\n",
    "x = np.sort(npvals[:, 1])\n",
    "y = npvals[:, 0]"
   ]
  },
  {
   "cell_type": "code",
   "execution_count": 54,
   "id": "28a2bdfa",
   "metadata": {
    "scrolled": true
   },
   "outputs": [
    {
     "data": {
      "image/png": "[encoded data removed]",
      "text/plain": [
       "<Figure size 432x288 with 1 Axes>"
      ]
     },
     "metadata": {
      "needs_background": "light"
     },
     "output_type": "display_data"
    }
   ],
   "source": [
    "# importing the required module\n",
    "import matplotlib.pyplot as plt\n",
    "  \n",
    "# # x axis values\n",
    "# x = [1,2,3]\n",
    "# # corresponding y axis values\n",
    "# y = [2,4,1]\n",
    "  \n",
    "# plotting the points \n",
    "plt.plot(x, y)\n",
    "  \n",
    "# naming the x axis\n",
    "plt.xlabel('x - axis')\n",
    "# naming the y axis\n",
    "plt.ylabel('y - axis')\n",
    "  \n",
    "# giving a title to my graph\n",
    "plt.title('My first graph!')\n",
    "  \n",
    "# function to show the plot\n",
    "plt.show()"
   ]
  },
  {
   "cell_type": "code",
   "execution_count": 39,
   "id": "3a926bac",
   "metadata": {},
   "outputs": [],
   "source": [
    "docs = ACC_collection.find()"
   ]
  },
  {
   "cell_type": "code",
   "execution_count": 40,
   "id": "c04a7e9b",
   "metadata": {},
   "outputs": [
    {
     "data": {
      "text/plain": [
       "{'_id': ObjectId('60ba97c4e3d2c41b9db40178'),\n",
       " 'price': 34466.85,\n",
       " 'size': 0.0030150900000000002}"
      ]
     },
     "execution_count": 40,
     "metadata": {},
     "output_type": "execute_result"
    }
   ],
   "source": [
    "docs.next()"
   ]
  },
  {
   "cell_type": "code",
   "execution_count": 55,
   "id": "6d75dd1c",
   "metadata": {},
   "outputs": [],
   "source": [
    "ACC_collection_buy = db.ACC_collection_buy \n",
    "ACC_collection_sell = db.ACC_collection_sell"
   ]
  },
  {
   "cell_type": "code",
   "execution_count": 87,
   "id": "ef6fe4db",
   "metadata": {},
   "outputs": [],
   "source": [
    "docsell = ACC_collection_sell.find()\n",
    "npvalsell = np.sort([[fd['price'], fd['size']] for fd in docsell if float(fd[\"size\"]) ])\n",
    "x = np.sort(npvalsell[:, 1])\n",
    "y = npvalsell[:, 0]"
   ]
  },
  {
   "cell_type": "code",
   "execution_count": 133,
   "id": "403cc1f6",
   "metadata": {},
   "outputs": [
    {
     "ename": "ModuleNotFoundError",
     "evalue": "No module named 'ISODate'",
     "output_type": "error",
     "traceback": [
      "\u001b[0;31m---------------------------------------------------------------------------\u001b[0m",
      "\u001b[0;31mModuleNotFoundError\u001b[0m                       Traceback (most recent call last)",
      "\u001b[0;32m<ipython-input-133-373a90144119>\u001b[0m in \u001b[0;36m<module>\u001b[0;34m\u001b[0m\n\u001b[0;32m----> 1\u001b[0;31m \u001b[0;32mimport\u001b[0m \u001b[0mISODate\u001b[0m\u001b[0;34m\u001b[0m\u001b[0;34m\u001b[0m\u001b[0m\n\u001b[0m",
      "\u001b[0;31mModuleNotFoundError\u001b[0m: No module named 'ISODate'"
     ]
    }
   ],
   "source": [
    "import ISODate"
   ]
  },
  {
   "cell_type": "code",
   "execution_count": 173,
   "id": "e44cfe8c",
   "metadata": {},
   "outputs": [],
   "source": [
    "docsell = ACC_collection_sell.find( { 'datetime' : {'$lte': dateutil.parser.isoparse('2014-08-24T07:52:04.945306Z'), '$gte': dateutil.parser.isoparse('2014-09-24T07:51:04.958496Z')}})"
   ]
  },
  {
   "cell_type": "code",
   "execution_count": 174,
   "id": "c766d24c",
   "metadata": {},
   "outputs": [
    {
     "data": {
      "text/plain": [
       "datetime.datetime(2014, 9, 24, 7, 52, 4, 945306, tzinfo=tzutc())"
      ]
     },
     "execution_count": 174,
     "metadata": {},
     "output_type": "execute_result"
    }
   ],
   "source": [
    "dateutil.parser.isoparse('2014-09-24T07:52:04.945306Z')"
   ]
  },
  {
   "cell_type": "code",
   "execution_count": 175,
   "id": "fe01b4fe",
   "metadata": {
    "scrolled": true
   },
   "outputs": [
    {
     "ename": "StopIteration",
     "evalue": "",
     "output_type": "error",
     "traceback": [
      "\u001b[0;31m---------------------------------------------------------------------------\u001b[0m",
      "\u001b[0;31mStopIteration\u001b[0m                             Traceback (most recent call last)",
      "\u001b[0;32m<ipython-input-175-0f5b7cb2ff8a>\u001b[0m in \u001b[0;36m<module>\u001b[0;34m\u001b[0m\n\u001b[0;32m----> 1\u001b[0;31m \u001b[0mdocsell\u001b[0m\u001b[0;34m.\u001b[0m\u001b[0mnext\u001b[0m\u001b[0;34m(\u001b[0m\u001b[0;34m)\u001b[0m\u001b[0;34m\u001b[0m\u001b[0;34m\u001b[0m\u001b[0m\n\u001b[0m",
      "\u001b[0;32m/opt/conda/lib/python3.8/site-packages/pymongo/cursor.py\u001b[0m in \u001b[0;36mnext\u001b[0;34m(self)\u001b[0m\n\u001b[1;32m   1138\u001b[0m                 \u001b[0;32mreturn\u001b[0m \u001b[0mself\u001b[0m\u001b[0;34m.\u001b[0m\u001b[0m__data\u001b[0m\u001b[0;34m.\u001b[0m\u001b[0mpopleft\u001b[0m\u001b[0;34m(\u001b[0m\u001b[0;34m)\u001b[0m\u001b[0;34m\u001b[0m\u001b[0;34m\u001b[0m\u001b[0m\n\u001b[1;32m   1139\u001b[0m         \u001b[0;32melse\u001b[0m\u001b[0;34m:\u001b[0m\u001b[0;34m\u001b[0m\u001b[0;34m\u001b[0m\u001b[0m\n\u001b[0;32m-> 1140\u001b[0;31m             \u001b[0;32mraise\u001b[0m \u001b[0mStopIteration\u001b[0m\u001b[0;34m\u001b[0m\u001b[0;34m\u001b[0m\u001b[0m\n\u001b[0m\u001b[1;32m   1141\u001b[0m \u001b[0;34m\u001b[0m\u001b[0m\n\u001b[1;32m   1142\u001b[0m     \u001b[0m__next__\u001b[0m \u001b[0;34m=\u001b[0m \u001b[0mnext\u001b[0m\u001b[0;34m\u001b[0m\u001b[0;34m\u001b[0m\u001b[0m\n",
      "\u001b[0;31mStopIteration\u001b[0m: "
     ]
    }
   ],
   "source": [
    "docsell.next()"
   ]
  },
  {
   "cell_type": "code",
   "execution_count": 88,
   "id": "d44bd52e",
   "metadata": {
    "scrolled": true
   },
   "outputs": [
    {
     "data": {
      "image/png": "[encoded data removed]",
      "text/plain": [
       "<Figure size 432x288 with 1 Axes>"
      ]
     },
     "metadata": {
      "needs_background": "light"
     },
     "output_type": "display_data"
    }
   ],
   "source": [
    "import matplotlib.pyplot as plt\n",
    "fig = plt.figure()\n",
    "ax = fig.add_axes([0,0,1,1])\n",
    "ax.bar(x,y)\n",
    "plt.show()"
   ]
  },
  {
   "cell_type": "code",
   "execution_count": 76,
   "id": "fe59ba6d",
   "metadata": {},
   "outputs": [],
   "source": [
    "b = BTC_collection.find()"
   ]
  },
  {
   "cell_type": "code",
   "execution_count": 80,
   "id": "c8e1fa82",
   "metadata": {},
   "outputs": [
    {
     "data": {
      "text/plain": [
       "{'_id': ObjectId('60b4555328938b1920a0a92d'),\n",
       " 'type': 'ticker',\n",
       " 'sequence': 25784465767,\n",
       " 'product_id': 'BTC-USD',\n",
       " 'price': '34461.31',\n",
       " 'open_24h': '34789.78',\n",
       " 'volume_24h': '14701.10322518',\n",
       " 'low_24h': '34287.18',\n",
       " 'high_24h': '36500',\n",
       " 'volume_30d': '894738.53316694',\n",
       " 'best_bid': '34461.30',\n",
       " 'best_ask': '34461.31',\n",
       " 'side': 'buy',\n",
       " 'time': '2021-05-31T03:13:43.010030Z',\n",
       " 'trade_id': 181491840,\n",
       " 'last_size': '0.00277843'}"
      ]
     },
     "execution_count": 80,
     "metadata": {},
     "output_type": "execute_result"
    }
   ],
   "source": [
    "b.next()"
   ]
  },
  {
   "cell_type": "code",
   "execution_count": 81,
   "id": "e2f9d5f5",
   "metadata": {},
   "outputs": [
    {
     "data": {
      "text/plain": [
       "{'_id': ObjectId('60bbe5e36f6c9d0948a95698'),\n",
       " 'price': 35830.6,\n",
       " 'size': -0.09495963999999998}"
      ]
     },
     "execution_count": 81,
     "metadata": {},
     "output_type": "execute_result"
    }
   ],
   "source": [
    "docsell = ACC_collection_sell.find()\n",
    "docsell.next()"
   ]
  },
  {
   "cell_type": "code",
   "execution_count": 91,
   "id": "b50e3669",
   "metadata": {},
   "outputs": [],
   "source": [
    "time = '2021-05-31T03:13:43.010030Z'"
   ]
  },
  {
   "cell_type": "code",
   "execution_count": 92,
   "id": "0b149e48",
   "metadata": {},
   "outputs": [
    {
     "name": "stdout",
     "output_type": "stream",
     "text": [
      "Time = 16:30\n"
     ]
    }
   ],
   "source": [
    "from datetime import *\n",
    "\n",
    "time = datetime.strptime(\"03/02/21 16:30\", \"%d/%m/%y %H:%M\")\n",
    "print(\"Time = {:d}:{:02d}\".format(time.hour, time.minute))"
   ]
  },
  {
   "cell_type": "code",
   "execution_count": 93,
   "id": "818857ea",
   "metadata": {},
   "outputs": [
    {
     "ename": "TypeError",
     "evalue": "fromisoformat: argument must be str",
     "output_type": "error",
     "traceback": [
      "\u001b[0;31m---------------------------------------------------------------------------\u001b[0m",
      "\u001b[0;31mTypeError\u001b[0m                                 Traceback (most recent call last)",
      "\u001b[0;32m<ipython-input-93-4712373546fe>\u001b[0m in \u001b[0;36m<module>\u001b[0;34m\u001b[0m\n\u001b[0;32m----> 1\u001b[0;31m \u001b[0mdatetime\u001b[0m\u001b[0;34m.\u001b[0m\u001b[0mfromisoformat\u001b[0m\u001b[0;34m(\u001b[0m\u001b[0mtime\u001b[0m\u001b[0;34m)\u001b[0m\u001b[0;34m\u001b[0m\u001b[0;34m\u001b[0m\u001b[0m\n\u001b[0m",
      "\u001b[0;31mTypeError\u001b[0m: fromisoformat: argument must be str"
     ]
    }
   ],
   "source": [
    "datetime.fromisoformat(time)"
   ]
  },
  {
   "cell_type": "code",
   "execution_count": 97,
   "id": "4d63fa55",
   "metadata": {},
   "outputs": [
    {
     "data": {
      "text/plain": [
       "datetime.datetime(2008, 9, 3, 20, 56, 35, 450686, tzinfo=tzutc())"
      ]
     },
     "execution_count": 97,
     "metadata": {},
     "output_type": "execute_result"
    }
   ],
   "source": [
    "import dateutil.parser\n",
    "dateutil.parser.isoparse('2008-09-03T20:56:35.450686Z')"
   ]
  },
  {
   "cell_type": "code",
   "execution_count": 102,
   "id": "c5b2e172",
   "metadata": {},
   "outputs": [],
   "source": [
    "time = '2021-05-31T03:13:43.010030Z'"
   ]
  },
  {
   "cell_type": "code",
   "execution_count": 110,
   "id": "48569b44",
   "metadata": {},
   "outputs": [],
   "source": [
    "import dateutil.parser\n",
    "dt = dateutil.parser.isoparse(time)"
   ]
  },
  {
   "cell_type": "code",
   "execution_count": 111,
   "id": "8a3826ed",
   "metadata": {},
   "outputs": [
    {
     "data": {
      "text/plain": [
       "datetime.datetime(2021, 5, 31, 3, 13, 43, 10030, tzinfo=tzutc())"
      ]
     },
     "execution_count": 111,
     "metadata": {},
     "output_type": "execute_result"
    }
   ],
   "source": [
    "dt"
   ]
  },
  {
   "cell_type": "code",
   "execution_count": 112,
   "id": "6bb4d6bb",
   "metadata": {},
   "outputs": [
    {
     "name": "stdout",
     "output_type": "stream",
     "text": [
      "Time = 3:13\n"
     ]
    }
   ],
   "source": [
    "print(\"Time = {:d}:{:02d}\".format(dt.hour, dt.minute))"
   ]
  },
  {
   "cell_type": "code",
   "execution_count": 113,
   "id": "799c980b",
   "metadata": {},
   "outputs": [
    {
     "data": {
      "text/plain": [
       "'2021-05-31T03:13:43.010030+00:00'"
      ]
     },
     "execution_count": 113,
     "metadata": {},
     "output_type": "execute_result"
    }
   ],
   "source": [
    "dt.isoformat()"
   ]
  },
  {
   "cell_type": "code",
   "execution_count": 114,
   "id": "d47df7c4",
   "metadata": {},
   "outputs": [],
   "source": [
    "dt = dt.replace(second=0, microsecond=0) "
   ]
  },
  {
   "cell_type": "code",
   "execution_count": 115,
   "id": "108c4c6c",
   "metadata": {},
   "outputs": [
    {
     "data": {
      "text/plain": [
       "'2021-05-31T03:13:00+00:00'"
      ]
     },
     "execution_count": 115,
     "metadata": {},
     "output_type": "execute_result"
    }
   ],
   "source": [
    "dt.isoformat()"
   ]
  },
  {
   "cell_type": "code",
   "execution_count": 118,
   "id": "98593a18",
   "metadata": {},
   "outputs": [],
   "source": [
    "td = db.TD"
   ]
  },
  {
   "cell_type": "code",
   "execution_count": 123,
   "id": "f7cf85f1",
   "metadata": {},
   "outputs": [
    {
     "data": {
      "text/plain": [
       "<pymongo.results.DeleteResult at 0x7f8eff051a00>"
      ]
     },
     "execution_count": 123,
     "metadata": {},
     "output_type": "execute_result"
    }
   ],
   "source": [
    "td.delete_many({})"
   ]
  },
  {
   "cell_type": "code",
   "execution_count": 128,
   "id": "585e26e6",
   "metadata": {},
   "outputs": [
    {
     "data": {
      "text/plain": [
       "{'_id': ObjectId('60bbef586f6c9d0948aa2798'),\n",
       " 'datetime': datetime.datetime(2021, 5, 31, 3, 13),\n",
       " 'price': 3,\n",
       " 'size': 3}"
      ]
     },
     "execution_count": 128,
     "metadata": {},
     "output_type": "execute_result"
    }
   ],
   "source": [
    "\n",
    "td.find_one_and_update({ \"price\" : 3, \"datetime\" : dt },\n",
    "{\"$inc\": \n",
    "    {\"size\": 2}\n",
    "},upsert=True)"
   ]
  },
  {
   "cell_type": "code",
   "execution_count": 129,
   "id": "d7130c83",
   "metadata": {},
   "outputs": [
    {
     "data": {
      "text/plain": [
       "{'_id': ObjectId('60bbef586f6c9d0948aa2798'),\n",
       " 'datetime': datetime.datetime(2021, 5, 31, 3, 13),\n",
       " 'price': 3,\n",
       " 'size': 5}"
      ]
     },
     "execution_count": 129,
     "metadata": {},
     "output_type": "execute_result"
    }
   ],
   "source": [
    "\n",
    "td.find().next()"
   ]
  },
  {
   "cell_type": "code",
   "execution_count": 182,
   "id": "e886a097",
   "metadata": {},
   "outputs": [],
   "source": [
    "docsell = ACC_collection_sell.find()"
   ]
  },
  {
   "cell_type": "code",
   "execution_count": 185,
   "id": "9cd65a76",
   "metadata": {},
   "outputs": [],
   "source": [
    "allsell = [r for r in docsell]"
   ]
  },
  {
   "cell_type": "code",
   "execution_count": 186,
   "id": "f6cf7206",
   "metadata": {},
   "outputs": [
    {
     "data": {
      "text/plain": [
       "5779"
      ]
     },
     "execution_count": 186,
     "metadata": {},
     "output_type": "execute_result"
    }
   ],
   "source": [
    "len(allsell)"
   ]
  },
  {
   "cell_type": "code",
   "execution_count": 187,
   "id": "5e8bb22a",
   "metadata": {},
   "outputs": [
    {
     "data": {
      "text/plain": [
       "{'_id': ObjectId('60bbf3eb6f6c9d0948aa8119'),\n",
       " 'datetime': datetime.datetime(2021, 6, 5, 22, 0, 19, 162000),\n",
       " 'price': 34992.88,\n",
       " 'size': -0.05}"
      ]
     },
     "execution_count": 187,
     "metadata": {},
     "output_type": "execute_result"
    }
   ],
   "source": [
    "allsell[-1]"
   ]
  },
  {
   "cell_type": "code",
   "execution_count": 262,
   "id": "841be2bd",
   "metadata": {},
   "outputs": [],
   "source": [
    "# dsell = ACC_collection_sell.find({\"datetime\": {\"$gt\": datetime.datetime(2020, 12, 1)}})\n",
    "acc = ACC_collection.find({\"datetime\": {\"$lt\": dateutil.parser.isoparse('2021-06-05T22:18:35.450686Z')}})\n"
   ]
  },
  {
   "cell_type": "code",
   "execution_count": 263,
   "id": "1dc03754",
   "metadata": {},
   "outputs": [],
   "source": [
    "import datetime"
   ]
  },
  {
   "cell_type": "code",
   "execution_count": 264,
   "id": "7bd9cc92",
   "metadata": {},
   "outputs": [],
   "source": [
    "allsell = [r for r in acc]"
   ]
  },
  {
   "cell_type": "code",
   "execution_count": 265,
   "id": "d1c12611",
   "metadata": {},
   "outputs": [
    {
     "data": {
      "text/plain": [
       "526"
      ]
     },
     "execution_count": 265,
     "metadata": {},
     "output_type": "execute_result"
    }
   ],
   "source": [
    "len(allsell)"
   ]
  },
  {
   "cell_type": "code",
   "execution_count": 266,
   "id": "0300e3cd",
   "metadata": {},
   "outputs": [
    {
     "data": {
      "text/plain": [
       "[{'_id': ObjectId('60bbf7df6f6c9d0948aaa640'),\n",
       "  'datetime': datetime.datetime(2021, 6, 5, 22, 17),\n",
       "  'price': 35162.67,\n",
       "  'buy_size': 0.09532544,\n",
       "  'sell_size': -0.05},\n",
       " {'_id': ObjectId('60bbf7e26f6c9d0948aaa66e'),\n",
       "  'datetime': datetime.datetime(2021, 6, 5, 22, 17),\n",
       "  'price': 35150.36,\n",
       "  'buy_size': 0.46232435000000005,\n",
       "  'sell_size': -0.0021},\n",
       " {'_id': ObjectId('60bbf7ed6f6c9d0948aaa6b8'),\n",
       "  'datetime': datetime.datetime(2021, 6, 5, 22, 17),\n",
       "  'price': 35171.33,\n",
       "  'buy_size': 0.00281673,\n",
       "  'sell_size': -0.00183331},\n",
       " {'_id': ObjectId('60bbf7ff6f6c9d0948aaa75f'),\n",
       "  'datetime': datetime.datetime(2021, 6, 5, 22, 17),\n",
       "  'price': 35172.31,\n",
       "  'buy_size': 0.06360505,\n",
       "  'sell_size': -0.00706971},\n",
       " {'_id': ObjectId('60bbf8026f6c9d0948aaa789'),\n",
       "  'datetime': datetime.datetime(2021, 6, 5, 22, 17),\n",
       "  'price': 35172.12,\n",
       "  'buy_size': 0.01755847,\n",
       "  'sell_size': -0.03331309},\n",
       " {'_id': ObjectId('60bbf8126f6c9d0948aaa877'),\n",
       "  'datetime': datetime.datetime(2021, 6, 5, 22, 18),\n",
       "  'price': 35220.65,\n",
       "  'buy_size': 0.0016888,\n",
       "  'sell_size': -0.0019968},\n",
       " {'_id': ObjectId('60bbf8126f6c9d0948aaa879'),\n",
       "  'datetime': datetime.datetime(2021, 6, 5, 22, 18),\n",
       "  'price': 35220.66,\n",
       "  'buy_size': 0.0013155,\n",
       "  'sell_size': -0.00119808},\n",
       " {'_id': ObjectId('60bbf8126f6c9d0948aaa87b'),\n",
       "  'datetime': datetime.datetime(2021, 6, 5, 22, 18),\n",
       "  'price': 35220.67,\n",
       "  'buy_size': 0.00157016,\n",
       "  'sell_size': -0.00139776},\n",
       " {'_id': ObjectId('60bbf8126f6c9d0948aaa883'),\n",
       "  'datetime': datetime.datetime(2021, 6, 5, 22, 18),\n",
       "  'price': 35220.68,\n",
       "  'buy_size': 0.00262101,\n",
       "  'sell_size': -0.00059904},\n",
       " {'_id': ObjectId('60bbf8126f6c9d0948aaa885'),\n",
       "  'datetime': datetime.datetime(2021, 6, 5, 22, 18),\n",
       "  'price': 35220.69,\n",
       "  'buy_size': 0.00231367,\n",
       "  'sell_size': -0.65859968},\n",
       " {'_id': ObjectId('60bbf8126f6c9d0948aaa897'),\n",
       "  'datetime': datetime.datetime(2021, 6, 5, 22, 18),\n",
       "  'price': 35229.06,\n",
       "  'buy_size': 0.00760772,\n",
       "  'sell_size': -0.050850490000000005},\n",
       " {'_id': ObjectId('60bbf8126f6c9d0948aaa8b0'),\n",
       "  'datetime': datetime.datetime(2021, 6, 5, 22, 18),\n",
       "  'price': 35232.49,\n",
       "  'buy_size': 0.06998493,\n",
       "  'sell_size': -0.08454405},\n",
       " {'_id': ObjectId('60bbf8136f6c9d0948aaa8ef'),\n",
       "  'datetime': datetime.datetime(2021, 6, 5, 22, 18),\n",
       "  'price': 35249.14,\n",
       "  'buy_size': 0.0102672,\n",
       "  'sell_size': -0.00047774},\n",
       " {'_id': ObjectId('60bbf8136f6c9d0948aaa903'),\n",
       "  'datetime': datetime.datetime(2021, 6, 5, 22, 18),\n",
       "  'price': 35254.23,\n",
       "  'buy_size': 0.00027,\n",
       "  'sell_size': -0.02462576},\n",
       " {'_id': ObjectId('60bbf8156f6c9d0948aaa938'),\n",
       "  'datetime': datetime.datetime(2021, 6, 5, 22, 18),\n",
       "  'price': 35260.75,\n",
       "  'buy_size': 0.00273844,\n",
       "  'sell_size': -1.01019258},\n",
       " {'_id': ObjectId('60bbf8156f6c9d0948aaa94f'),\n",
       "  'datetime': datetime.datetime(2021, 6, 5, 22, 18),\n",
       "  'price': 35254.08,\n",
       "  'buy_size': 0.03106123,\n",
       "  'sell_size': -0.00973246},\n",
       " {'_id': ObjectId('60bbf8206f6c9d0948aaa9b3'),\n",
       "  'datetime': datetime.datetime(2021, 6, 5, 22, 18),\n",
       "  'price': 35256.94,\n",
       "  'buy_size': 0.00214413,\n",
       "  'sell_size': -0.19},\n",
       " {'_id': ObjectId('60bbf8246f6c9d0948aaa9f1'),\n",
       "  'datetime': datetime.datetime(2021, 6, 5, 22, 18),\n",
       "  'price': 35274.46,\n",
       "  'buy_size': 0.01275899,\n",
       "  'sell_size': -0.00232023},\n",
       " {'_id': ObjectId('60bbf8276f6c9d0948aaaa1e'),\n",
       "  'datetime': datetime.datetime(2021, 6, 5, 22, 18),\n",
       "  'price': 35292.37,\n",
       "  'buy_size': 1.03811338,\n",
       "  'sell_size': -0.04940625},\n",
       " {'_id': ObjectId('60bbf82a6f6c9d0948aaaa55'),\n",
       "  'datetime': datetime.datetime(2021, 6, 5, 22, 18),\n",
       "  'price': 35294.06,\n",
       "  'buy_size': 0.05093301,\n",
       "  'sell_size': -0.01727161},\n",
       " {'_id': ObjectId('60bbf82d6f6c9d0948aaaa8c'),\n",
       "  'datetime': datetime.datetime(2021, 6, 5, 22, 18),\n",
       "  'price': 35264.98,\n",
       "  'buy_size': 0.00273646,\n",
       "  'sell_size': -0.03952}]"
      ]
     },
     "execution_count": 266,
     "metadata": {},
     "output_type": "execute_result"
    }
   ],
   "source": [
    "[r for r in allsell[:] if r['buy_size'] > 0 and r['sell_size'] < 0]"
   ]
  },
  {
   "cell_type": "code",
   "execution_count": 238,
   "id": "c2cadc8b",
   "metadata": {},
   "outputs": [
    {
     "data": {
      "text/plain": [
       "<pymongo.results.DeleteResult at 0x7f8efe4ff380>"
      ]
     },
     "execution_count": 238,
     "metadata": {},
     "output_type": "execute_result"
    }
   ],
   "source": [
    "ACC_collection.delete_many({})"
   ]
  },
  {
   "cell_type": "code",
   "execution_count": null,
   "id": "2b7f2cb7",
   "metadata": {},
   "outputs": [],
   "source": []
  }
 ],
 "metadata": {
  "kernelspec": {
   "display_name": "Python 3",
   "language": "python",
   "name": "python3"
  },
  "language_info": {
   "codemirror_mode": {
    "name": "ipython",
    "version": 3
   },
   "file_extension": ".py",
   "mimetype": "text/x-python",
   "name": "python",
   "nbconvert_exporter": "python",
   "pygments_lexer": "ipython3",
   "version": "3.8.5"
  }
 },
 "nbformat": 4,
 "nbformat_minor": 5
}
